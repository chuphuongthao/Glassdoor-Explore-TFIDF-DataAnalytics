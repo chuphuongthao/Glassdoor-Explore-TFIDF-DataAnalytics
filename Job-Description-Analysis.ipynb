{
 "cells": [
  {
   "cell_type": "markdown",
   "id": "4bc6482b-6a98-4cd1-a62d-80c469bf7812",
   "metadata": {},
   "source": [
    "##  Load metadata data frame and save all text files in list"
   ]
  },
  {
   "cell_type": "code",
   "execution_count": 1,
   "id": "ade10c71-3ce2-462c-bea4-144b8401d5bb",
   "metadata": {},
   "outputs": [],
   "source": [
    "import pandas as pd\n",
    "metadf = pd.read_csv('GlassDoorMeta.csv', index_col = 0)"
   ]
  },
  {
   "cell_type": "code",
   "execution_count": 2,
   "id": "bc2fb2c9-e70c-4f87-988f-11159ca910fd",
   "metadata": {},
   "outputs": [],
   "source": [
    "txt_list = []\n",
    "for i in metadf['id']:\n",
    "    # use with open\n",
    "    f = open('job_descriptions/'+str(i)+'.txt', 'r')\n",
    "    txt = f.read()\n",
    "    f.close()\n",
    "    txt_list.append(txt)"
   ]
  },
  {
   "cell_type": "markdown",
   "id": "545d6336-b48f-4a9d-86ab-9b2902b4c31f",
   "metadata": {},
   "source": [
    "## Create TfidfVectorizer instance, apply transformation"
   ]
  },
  {
   "cell_type": "code",
   "execution_count": 3,
   "id": "41d9893e-6f50-4137-958d-c771b7050b09",
   "metadata": {},
   "outputs": [],
   "source": [
    "from nltk.corpus import stopwords"
   ]
  },
  {
   "cell_type": "code",
   "execution_count": 5,
   "id": "aa5c405c-8f88-496a-939f-c80794023772",
   "metadata": {},
   "outputs": [],
   "source": [
    "from sklearn.feature_extraction.text import TfidfVectorizer\n",
    "\n",
    "v = TfidfVectorizer(stop_words = stopwords.words('english'))"
   ]
  },
  {
   "cell_type": "code",
   "execution_count": 6,
   "id": "4b5380fb-3bc2-4374-bb1f-30dbb06e69c7",
   "metadata": {},
   "outputs": [],
   "source": [
    "transformed_txt = v.fit_transform(txt_list)"
   ]
  },
  {
   "cell_type": "code",
   "execution_count": 7,
   "id": "9e4e2270-7ae8-43a7-abf7-8a21826e5d00",
   "metadata": {},
   "outputs": [],
   "source": [
    "import numpy as np\n",
    "\n",
    "X_array = transformed_txt.toarray()"
   ]
  },
  {
   "cell_type": "code",
   "execution_count": 10,
   "id": "42f2aec9-7c05-429c-8343-f684561f43e8",
   "metadata": {},
   "outputs": [],
   "source": [
    "# checking the dimension of the Vectorizer instance\n",
    "assert len(X_array) == len(metadf)"
   ]
  },
  {
   "cell_type": "code",
   "execution_count": 11,
   "id": "2ca29eb6-fed1-435c-9d50-95cfc321c2d7",
   "metadata": {},
   "outputs": [],
   "source": [
    "# create a list of data frames\n",
    "doc_dfs = []\n",
    "\n",
    "for counter, doc in enumerate(X_array):\n",
    "    # construct a dataframe\n",
    "    tf_idf_tuples = list(zip(v.get_feature_names_out(), doc))\n",
    "    one_doc_as_df = pd.DataFrame.from_records(tf_idf_tuples, columns=['term', 'score']).sort_values(by='score', ascending=False).reset_index(drop=True)\n",
    "    doc_dfs.append(one_doc_as_df)"
   ]
  },
  {
   "cell_type": "code",
   "execution_count": 12,
   "id": "13ce88eb-a43b-495f-8422-f5e0c457fa79",
   "metadata": {},
   "outputs": [
    {
     "data": {
      "text/html": [
       "<div>\n",
       "<style scoped>\n",
       "    .dataframe tbody tr th:only-of-type {\n",
       "        vertical-align: middle;\n",
       "    }\n",
       "\n",
       "    .dataframe tbody tr th {\n",
       "        vertical-align: top;\n",
       "    }\n",
       "\n",
       "    .dataframe thead th {\n",
       "        text-align: right;\n",
       "    }\n",
       "</style>\n",
       "<table border=\"1\" class=\"dataframe\">\n",
       "  <thead>\n",
       "    <tr style=\"text-align: right;\">\n",
       "      <th></th>\n",
       "      <th>term</th>\n",
       "      <th>score</th>\n",
       "    </tr>\n",
       "  </thead>\n",
       "  <tbody>\n",
       "    <tr>\n",
       "      <th>0</th>\n",
       "      <td>deere</td>\n",
       "      <td>0.455272</td>\n",
       "    </tr>\n",
       "    <tr>\n",
       "      <th>1</th>\n",
       "      <td>john</td>\n",
       "      <td>0.274292</td>\n",
       "    </tr>\n",
       "    <tr>\n",
       "      <th>2</th>\n",
       "      <td>plan</td>\n",
       "      <td>0.143236</td>\n",
       "    </tr>\n",
       "    <tr>\n",
       "      <th>3</th>\n",
       "      <td>benefit</td>\n",
       "      <td>0.140968</td>\n",
       "    </tr>\n",
       "    <tr>\n",
       "      <th>4</th>\n",
       "      <td>student</td>\n",
       "      <td>0.124240</td>\n",
       "    </tr>\n",
       "    <tr>\n",
       "      <th>...</th>\n",
       "      <td>...</td>\n",
       "      <td>...</td>\n",
       "    </tr>\n",
       "    <tr>\n",
       "      <th>16597</th>\n",
       "      <td>ensemble</td>\n",
       "      <td>0.000000</td>\n",
       "    </tr>\n",
       "    <tr>\n",
       "      <th>16598</th>\n",
       "      <td>ensembles</td>\n",
       "      <td>0.000000</td>\n",
       "    </tr>\n",
       "    <tr>\n",
       "      <th>16599</th>\n",
       "      <td>ensighten</td>\n",
       "      <td>0.000000</td>\n",
       "    </tr>\n",
       "    <tr>\n",
       "      <th>16600</th>\n",
       "      <td>ensp</td>\n",
       "      <td>0.000000</td>\n",
       "    </tr>\n",
       "    <tr>\n",
       "      <th>16601</th>\n",
       "      <td>zwifter</td>\n",
       "      <td>0.000000</td>\n",
       "    </tr>\n",
       "  </tbody>\n",
       "</table>\n",
       "<p>16602 rows × 2 columns</p>\n",
       "</div>"
      ],
      "text/plain": [
       "            term     score\n",
       "0          deere  0.455272\n",
       "1           john  0.274292\n",
       "2           plan  0.143236\n",
       "3        benefit  0.140968\n",
       "4        student  0.124240\n",
       "...          ...       ...\n",
       "16597   ensemble  0.000000\n",
       "16598  ensembles  0.000000\n",
       "16599  ensighten  0.000000\n",
       "16600       ensp  0.000000\n",
       "16601    zwifter  0.000000\n",
       "\n",
       "[16602 rows x 2 columns]"
      ]
     },
     "execution_count": 12,
     "metadata": {},
     "output_type": "execute_result"
    }
   ],
   "source": [
    "doc_dfs[1]"
   ]
  },
  {
   "cell_type": "markdown",
   "id": "cfdf42e7-667d-4c0d-a7a8-2b383f70e502",
   "metadata": {},
   "source": [
    "## Codebook for Glassdoor Meta Data Frame"
   ]
  },
  {
   "cell_type": "code",
   "execution_count": 13,
   "id": "9c0bdf49-7dcf-4379-bda8-d499b4c8dbc7",
   "metadata": {},
   "outputs": [
    {
     "data": {
      "text/html": [
       "<div>\n",
       "<style scoped>\n",
       "    .dataframe tbody tr th:only-of-type {\n",
       "        vertical-align: middle;\n",
       "    }\n",
       "\n",
       "    .dataframe tbody tr th {\n",
       "        vertical-align: top;\n",
       "    }\n",
       "\n",
       "    .dataframe thead th {\n",
       "        text-align: right;\n",
       "    }\n",
       "</style>\n",
       "<table border=\"1\" class=\"dataframe\">\n",
       "  <thead>\n",
       "    <tr style=\"text-align: right;\">\n",
       "      <th></th>\n",
       "      <th>id</th>\n",
       "      <th>url</th>\n",
       "      <th>company</th>\n",
       "      <th>job_title</th>\n",
       "      <th>duplicates</th>\n",
       "      <th>first_date_scraped</th>\n",
       "      <th>latest_date_scraped</th>\n",
       "      <th>data_science</th>\n",
       "      <th>data_analytics</th>\n",
       "    </tr>\n",
       "  </thead>\n",
       "  <tbody>\n",
       "    <tr>\n",
       "      <th>0</th>\n",
       "      <td>983</td>\n",
       "      <td>/partner/jobListing.htm?pos=213&amp;ao=1110586&amp;s=5...</td>\n",
       "      <td>First Financial Asset Management</td>\n",
       "      <td>Data Analytics Associate of Data Science</td>\n",
       "      <td>288</td>\n",
       "      <td>09-03-2022</td>\n",
       "      <td>09-11-2022</td>\n",
       "      <td>1</td>\n",
       "      <td>1</td>\n",
       "    </tr>\n",
       "    <tr>\n",
       "      <th>1</th>\n",
       "      <td>72</td>\n",
       "      <td>/partner/jobListing.htm?pos=203&amp;ao=1110586&amp;s=5...</td>\n",
       "      <td>John Deere</td>\n",
       "      <td>Part-Time Student-Data Analytics-Remote</td>\n",
       "      <td>280</td>\n",
       "      <td>09-03-2022</td>\n",
       "      <td>09-08-2022</td>\n",
       "      <td>1</td>\n",
       "      <td>1</td>\n",
       "    </tr>\n",
       "    <tr>\n",
       "      <th>2</th>\n",
       "      <td>1876</td>\n",
       "      <td>/partner/jobListing.htm?pos=206&amp;ao=1110586&amp;s=5...</td>\n",
       "      <td>FrankCrum Staffing</td>\n",
       "      <td>Data Analytics Specialist</td>\n",
       "      <td>258</td>\n",
       "      <td>09-04-2022</td>\n",
       "      <td>09-12-2022</td>\n",
       "      <td>0</td>\n",
       "      <td>1</td>\n",
       "    </tr>\n",
       "    <tr>\n",
       "      <th>3</th>\n",
       "      <td>7186</td>\n",
       "      <td>/partner/jobListing.htm?pos=106&amp;ao=1110586&amp;s=5...</td>\n",
       "      <td>Vertex Pharmaceuticals</td>\n",
       "      <td>Contractor, Data Analytics</td>\n",
       "      <td>246</td>\n",
       "      <td>09-07-2022</td>\n",
       "      <td>09-12-2022</td>\n",
       "      <td>1</td>\n",
       "      <td>1</td>\n",
       "    </tr>\n",
       "    <tr>\n",
       "      <th>4</th>\n",
       "      <td>976</td>\n",
       "      <td>/partner/jobListing.htm?pos=206&amp;ao=1110586&amp;s=5...</td>\n",
       "      <td>John Deere</td>\n",
       "      <td>Data Science &amp; Analytics Development Program 2...</td>\n",
       "      <td>214</td>\n",
       "      <td>09-03-2022</td>\n",
       "      <td>09-12-2022</td>\n",
       "      <td>1</td>\n",
       "      <td>0</td>\n",
       "    </tr>\n",
       "  </tbody>\n",
       "</table>\n",
       "</div>"
      ],
      "text/plain": [
       "     id                                                url  \\\n",
       "0   983  /partner/jobListing.htm?pos=213&ao=1110586&s=5...   \n",
       "1    72  /partner/jobListing.htm?pos=203&ao=1110586&s=5...   \n",
       "2  1876  /partner/jobListing.htm?pos=206&ao=1110586&s=5...   \n",
       "3  7186  /partner/jobListing.htm?pos=106&ao=1110586&s=5...   \n",
       "4   976  /partner/jobListing.htm?pos=206&ao=1110586&s=5...   \n",
       "\n",
       "                            company  \\\n",
       "0  First Financial Asset Management   \n",
       "1                        John Deere   \n",
       "2                FrankCrum Staffing   \n",
       "3            Vertex Pharmaceuticals   \n",
       "4                        John Deere   \n",
       "\n",
       "                                           job_title  duplicates  \\\n",
       "0           Data Analytics Associate of Data Science         288   \n",
       "1            Part-Time Student-Data Analytics-Remote         280   \n",
       "2                          Data Analytics Specialist         258   \n",
       "3                         Contractor, Data Analytics         246   \n",
       "4  Data Science & Analytics Development Program 2...         214   \n",
       "\n",
       "  first_date_scraped latest_date_scraped  data_science  data_analytics  \n",
       "0         09-03-2022          09-11-2022             1               1  \n",
       "1         09-03-2022          09-08-2022             1               1  \n",
       "2         09-04-2022          09-12-2022             0               1  \n",
       "3         09-07-2022          09-12-2022             1               1  \n",
       "4         09-03-2022          09-12-2022             1               0  "
      ]
     },
     "execution_count": 13,
     "metadata": {},
     "output_type": "execute_result"
    }
   ],
   "source": [
    "metadf.head()"
   ]
  },
  {
   "cell_type": "markdown",
   "id": "54a0c14b-c677-46a3-a9cc-d75d1a7f1f8e",
   "metadata": {},
   "source": [
    "__id__: An interger as index identifier of one job listing\n",
    "\n",
    "__url__: The URL (webpage address) of the job listing\n",
    "\n",
    "__company__: Name of the company posting the job on Glass Door\n",
    "\n",
    "__job_title__: Title of the job as posted on the webpage\n",
    "\n",
    "__duplicates__: Number of duplicates of the job, meaning how many times an employer reposted the job descriptions on the website\n",
    "\n",
    "__first_date_scraped__: The first date that the job was posted\n",
    "\n",
    "__latest_date_scraped__: The lastest date that the job was posted\n",
    "\n",
    "__data_science__: A binary of whether the job is categorized as a data science job, with 1 being data science, 0 being not data science\n",
    "\n",
    "__data_analytics__: A binary of whether the job is categorized as a data analytics job, with 1 being data science, 0 being not data analytics"
   ]
  },
  {
   "cell_type": "markdown",
   "id": "2069b5bd-e295-4acd-8d7c-b5490daabe98",
   "metadata": {},
   "source": [
    "## Count how many jobs in the corpus match the search queries for \"data analytics\", \"data science\", or both"
   ]
  },
  {
   "cell_type": "code",
   "execution_count": 14,
   "id": "dbf1d235-9f46-488a-8971-0fd0dc1f0f44",
   "metadata": {},
   "outputs": [
    {
     "data": {
      "text/plain": [
       "data_analytics  data_science\n",
       "0               1               415\n",
       "1               0               381\n",
       "                1                71\n",
       "Name: count, dtype: int64"
      ]
     },
     "execution_count": 14,
     "metadata": {},
     "output_type": "execute_result"
    }
   ],
   "source": [
    "metadf[['data_analytics', 'data_science']].value_counts()"
   ]
  },
  {
   "cell_type": "markdown",
   "id": "ab1c53bc-9915-48b0-bfbc-40888b8d661d",
   "metadata": {},
   "source": [
    "The code cell above implies that there are 415 jobs matched the search query for data science, 381 matched data analytics, and 71 matched both categories."
   ]
  },
  {
   "cell_type": "markdown",
   "id": "c7467f94-3acf-4760-88d4-decfb0a84505",
   "metadata": {},
   "source": [
    "## Find terms related to database skills"
   ]
  },
  {
   "cell_type": "code",
   "execution_count": 15,
   "id": "2b6b6304-e7f8-4027-9e4f-b48fe90ceb66",
   "metadata": {},
   "outputs": [],
   "source": [
    "top_matches = [10791, 10803, 2730, 8982, 8115]\n",
    "indexes = []\n",
    "for i in top_matches:\n",
    "    idx = metadf.id[metadf.id == i].index[0]\n",
    "    indexes.append(idx)"
   ]
  },
  {
   "cell_type": "code",
   "execution_count": 16,
   "id": "0ded647c-e111-4d2d-86a1-9994b9ca85be",
   "metadata": {},
   "outputs": [
    {
     "data": {
      "text/html": [
       "<div>\n",
       "<style scoped>\n",
       "    .dataframe tbody tr th:only-of-type {\n",
       "        vertical-align: middle;\n",
       "    }\n",
       "\n",
       "    .dataframe tbody tr th {\n",
       "        vertical-align: top;\n",
       "    }\n",
       "\n",
       "    .dataframe thead th {\n",
       "        text-align: right;\n",
       "    }\n",
       "</style>\n",
       "<table border=\"1\" class=\"dataframe\">\n",
       "  <thead>\n",
       "    <tr style=\"text-align: right;\">\n",
       "      <th></th>\n",
       "      <th>0</th>\n",
       "      <th>1</th>\n",
       "      <th>2</th>\n",
       "      <th>3</th>\n",
       "      <th>4</th>\n",
       "      <th>5</th>\n",
       "      <th>6</th>\n",
       "      <th>7</th>\n",
       "      <th>8</th>\n",
       "      <th>9</th>\n",
       "      <th>...</th>\n",
       "      <th>21</th>\n",
       "      <th>22</th>\n",
       "      <th>23</th>\n",
       "      <th>24</th>\n",
       "      <th>25</th>\n",
       "      <th>26</th>\n",
       "      <th>27</th>\n",
       "      <th>28</th>\n",
       "      <th>29</th>\n",
       "      <th>30</th>\n",
       "    </tr>\n",
       "  </thead>\n",
       "  <tbody>\n",
       "    <tr>\n",
       "      <th>0</th>\n",
       "      <td>hrmango</td>\n",
       "      <td>databases</td>\n",
       "      <td>database</td>\n",
       "      <td>bamboo</td>\n",
       "      <td>attitudenice</td>\n",
       "      <td>skillsfearless</td>\n",
       "      <td>featurescollaborate</td>\n",
       "      <td>science1</td>\n",
       "      <td>practicesrequirements</td>\n",
       "      <td>jobdetail</td>\n",
       "      <td>...</td>\n",
       "      <td>sounds</td>\n",
       "      <td>hone</td>\n",
       "      <td>layers</td>\n",
       "      <td>agile</td>\n",
       "      <td>vs</td>\n",
       "      <td>code</td>\n",
       "      <td>architectural</td>\n",
       "      <td>mysql</td>\n",
       "      <td>administrators</td>\n",
       "      <td>aspect</td>\n",
       "    </tr>\n",
       "    <tr>\n",
       "      <th>1</th>\n",
       "      <td>developer</td>\n",
       "      <td>sql</td>\n",
       "      <td>haskell</td>\n",
       "      <td>lisp</td>\n",
       "      <td>prolog</td>\n",
       "      <td>retail</td>\n",
       "      <td>julia</td>\n",
       "      <td>ie</td>\n",
       "      <td>qlik</td>\n",
       "      <td>windowing</td>\n",
       "      <td>...</td>\n",
       "      <td>sr</td>\n",
       "      <td>background</td>\n",
       "      <td>experience</td>\n",
       "      <td>bi</td>\n",
       "      <td>junior</td>\n",
       "      <td>query</td>\n",
       "      <td>clients</td>\n",
       "      <td>power</td>\n",
       "      <td>developers</td>\n",
       "      <td>mentoring</td>\n",
       "    </tr>\n",
       "    <tr>\n",
       "      <th>2</th>\n",
       "      <td>data</td>\n",
       "      <td>columbus</td>\n",
       "      <td>oh</td>\n",
       "      <td>engineer</td>\n",
       "      <td>geo</td>\n",
       "      <td>spatial</td>\n",
       "      <td>sql</td>\n",
       "      <td>hybrid</td>\n",
       "      <td>please</td>\n",
       "      <td>disparate</td>\n",
       "      <td>...</td>\n",
       "      <td>probabilityproven</td>\n",
       "      <td>crash</td>\n",
       "      <td>engineer5</td>\n",
       "      <td>broadnaxapplicants</td>\n",
       "      <td>preferredfamiliarity</td>\n",
       "      <td>deuntae</td>\n",
       "      <td>scriptingexpertise</td>\n",
       "      <td>countermeasure</td>\n",
       "      <td>formata</td>\n",
       "      <td>oracleexperience</td>\n",
       "    </tr>\n",
       "    <tr>\n",
       "      <th>3</th>\n",
       "      <td>technologies</td>\n",
       "      <td>data</td>\n",
       "      <td>cloud</td>\n",
       "      <td>counterparts</td>\n",
       "      <td>sets</td>\n",
       "      <td>batch</td>\n",
       "      <td>limited</td>\n",
       "      <td>ingesting</td>\n",
       "      <td>streaming</td>\n",
       "      <td>azure</td>\n",
       "      <td>...</td>\n",
       "      <td>elt</td>\n",
       "      <td>etl</td>\n",
       "      <td>business</td>\n",
       "      <td>kubernetes</td>\n",
       "      <td>hands</td>\n",
       "      <td>oracle</td>\n",
       "      <td>end</td>\n",
       "      <td>nosql</td>\n",
       "      <td>lifecycle</td>\n",
       "      <td>storage</td>\n",
       "    </tr>\n",
       "    <tr>\n",
       "      <th>4</th>\n",
       "      <td>wireless</td>\n",
       "      <td>data</td>\n",
       "      <td>key</td>\n",
       "      <td>include</td>\n",
       "      <td>dish</td>\n",
       "      <td>may</td>\n",
       "      <td>technologies</td>\n",
       "      <td>keep</td>\n",
       "      <td>google</td>\n",
       "      <td>tableau</td>\n",
       "      <td>...</td>\n",
       "      <td>network</td>\n",
       "      <td>transform</td>\n",
       "      <td>radically</td>\n",
       "      <td>new</td>\n",
       "      <td>automation</td>\n",
       "      <td>bitbucket</td>\n",
       "      <td>pulse</td>\n",
       "      <td>allocation</td>\n",
       "      <td>ways</td>\n",
       "      <td>macros</td>\n",
       "    </tr>\n",
       "  </tbody>\n",
       "</table>\n",
       "<p>5 rows × 31 columns</p>\n",
       "</div>"
      ],
      "text/plain": [
       "             0          1         2             3             4   \\\n",
       "0       hrmango  databases  database        bamboo  attitudenice   \n",
       "1     developer        sql   haskell          lisp        prolog   \n",
       "2          data   columbus        oh      engineer           geo   \n",
       "3  technologies       data     cloud  counterparts          sets   \n",
       "4      wireless       data       key       include          dish   \n",
       "\n",
       "               5                    6          7                      8   \\\n",
       "0  skillsfearless  featurescollaborate   science1  practicesrequirements   \n",
       "1          retail                julia         ie                   qlik   \n",
       "2         spatial                  sql     hybrid                 please   \n",
       "3           batch              limited  ingesting              streaming   \n",
       "4             may         technologies       keep                 google   \n",
       "\n",
       "          9   ...                 21          22          23  \\\n",
       "0  jobdetail  ...             sounds        hone      layers   \n",
       "1  windowing  ...                 sr  background  experience   \n",
       "2  disparate  ...  probabilityproven       crash   engineer5   \n",
       "3      azure  ...                elt         etl    business   \n",
       "4    tableau  ...            network   transform   radically   \n",
       "\n",
       "                   24                    25         26                  27  \\\n",
       "0               agile                    vs       code       architectural   \n",
       "1                  bi                junior      query             clients   \n",
       "2  broadnaxapplicants  preferredfamiliarity    deuntae  scriptingexpertise   \n",
       "3          kubernetes                 hands     oracle                 end   \n",
       "4                 new            automation  bitbucket               pulse   \n",
       "\n",
       "               28              29                30  \n",
       "0           mysql  administrators            aspect  \n",
       "1           power      developers         mentoring  \n",
       "2  countermeasure         formata  oracleexperience  \n",
       "3           nosql       lifecycle           storage  \n",
       "4      allocation            ways            macros  \n",
       "\n",
       "[5 rows x 31 columns]"
      ]
     },
     "execution_count": 16,
     "metadata": {},
     "output_type": "execute_result"
    }
   ],
   "source": [
    "db_terms = []\n",
    "\n",
    "for i in indexes:\n",
    "    top_terms = doc_dfs[i].term.tolist()[:31]\n",
    "    db_terms.append(top_terms)\n",
    "    \n",
    "db_df = pd.DataFrame.from_records(db_terms)\n",
    "db_df"
   ]
  },
  {
   "cell_type": "markdown",
   "id": "ff64b879-e14d-452e-bec0-759d89807384",
   "metadata": {},
   "source": [
    "Looking at top job descriptions that are related to databases, I identify the top 30 words with the highest TF-IDF scores to find other words that seem to also relate to database. The five terms I choose, which are top terms and some appear in two or more documents, are: _developer_, _data_, _technologies_, _mssql_, _tableau_."
   ]
  },
  {
   "cell_type": "markdown",
   "id": "f1ed43e0-6983-452b-b6f6-f3749cf86f9d",
   "metadata": {},
   "source": [
    "## Make stacked histograms comparing the \"data analytics\" jobs to the \"data science\" jobs (one stacked histogram per word) for the following words: python, knowledge, business, database, dashboards, statistical, and machine."
   ]
  },
  {
   "cell_type": "code",
   "execution_count": 17,
   "id": "60737e59-d64b-4158-8342-7f332da1964d",
   "metadata": {},
   "outputs": [],
   "source": [
    "keywords = ['python', 'knowledge', 'business', 'database', 'dashboards', 'statistical', 'machine']\n",
    "tfidf_all = {}\n",
    "\n",
    "for k in keywords:\n",
    "    tfidf_all[k] = []\n",
    "    \n",
    "    for i in doc_dfs:\n",
    "        # for each get score for python\n",
    "        this_score = i.loc[i['term'] == k]['score'].iloc[0]\n",
    "        # append to list\n",
    "        tfidf_all[k].append(this_score)\n",
    "    \n",
    "for k in keywords:\n",
    "    metadf[k] = tfidf_all[k]"
   ]
  },
  {
   "cell_type": "code",
   "execution_count": 18,
   "id": "9b6f071d-a433-4424-8c7a-b3c73eb981b7",
   "metadata": {},
   "outputs": [],
   "source": [
    "def label_category(row):\n",
    "    if row['data_science'] == 1 and row['data_analytics'] == 0:\n",
    "        return 'data science'\n",
    "    if row['data_science'] == 0 and row['data_analytics'] == 1:\n",
    "        return 'data analytics'\n",
    "    if row['data_science'] == 1 and row['data_analytics'] == 1:\n",
    "        return 'both'\n",
    "    \n",
    "metadf['category'] = metadf.apply (lambda row: label_category(row), axis=1)"
   ]
  },
  {
   "cell_type": "code",
   "execution_count": 19,
   "id": "921f105e-b813-42fb-9e00-01b66fa1ca43",
   "metadata": {},
   "outputs": [
    {
     "data": {
      "text/html": [
       "<div>\n",
       "<style scoped>\n",
       "    .dataframe tbody tr th:only-of-type {\n",
       "        vertical-align: middle;\n",
       "    }\n",
       "\n",
       "    .dataframe tbody tr th {\n",
       "        vertical-align: top;\n",
       "    }\n",
       "\n",
       "    .dataframe thead th {\n",
       "        text-align: right;\n",
       "    }\n",
       "</style>\n",
       "<table border=\"1\" class=\"dataframe\">\n",
       "  <thead>\n",
       "    <tr style=\"text-align: right;\">\n",
       "      <th></th>\n",
       "      <th>id</th>\n",
       "      <th>url</th>\n",
       "      <th>company</th>\n",
       "      <th>job_title</th>\n",
       "      <th>duplicates</th>\n",
       "      <th>first_date_scraped</th>\n",
       "      <th>latest_date_scraped</th>\n",
       "      <th>data_science</th>\n",
       "      <th>data_analytics</th>\n",
       "      <th>python</th>\n",
       "      <th>knowledge</th>\n",
       "      <th>business</th>\n",
       "      <th>database</th>\n",
       "      <th>dashboards</th>\n",
       "      <th>statistical</th>\n",
       "      <th>machine</th>\n",
       "      <th>category</th>\n",
       "    </tr>\n",
       "  </thead>\n",
       "  <tbody>\n",
       "    <tr>\n",
       "      <th>0</th>\n",
       "      <td>983</td>\n",
       "      <td>/partner/jobListing.htm?pos=213&amp;ao=1110586&amp;s=5...</td>\n",
       "      <td>First Financial Asset Management</td>\n",
       "      <td>Data Analytics Associate of Data Science</td>\n",
       "      <td>288</td>\n",
       "      <td>09-03-2022</td>\n",
       "      <td>09-11-2022</td>\n",
       "      <td>1</td>\n",
       "      <td>1</td>\n",
       "      <td>0.049160</td>\n",
       "      <td>0.000000</td>\n",
       "      <td>0.038954</td>\n",
       "      <td>0.000000</td>\n",
       "      <td>0.000000</td>\n",
       "      <td>0.031573</td>\n",
       "      <td>0.000000</td>\n",
       "      <td>both</td>\n",
       "    </tr>\n",
       "    <tr>\n",
       "      <th>1</th>\n",
       "      <td>72</td>\n",
       "      <td>/partner/jobListing.htm?pos=203&amp;ao=1110586&amp;s=5...</td>\n",
       "      <td>John Deere</td>\n",
       "      <td>Part-Time Student-Data Analytics-Remote</td>\n",
       "      <td>280</td>\n",
       "      <td>09-03-2022</td>\n",
       "      <td>09-08-2022</td>\n",
       "      <td>1</td>\n",
       "      <td>1</td>\n",
       "      <td>0.016488</td>\n",
       "      <td>0.033019</td>\n",
       "      <td>0.000000</td>\n",
       "      <td>0.000000</td>\n",
       "      <td>0.000000</td>\n",
       "      <td>0.000000</td>\n",
       "      <td>0.020352</td>\n",
       "      <td>both</td>\n",
       "    </tr>\n",
       "    <tr>\n",
       "      <th>2</th>\n",
       "      <td>1876</td>\n",
       "      <td>/partner/jobListing.htm?pos=206&amp;ao=1110586&amp;s=5...</td>\n",
       "      <td>FrankCrum Staffing</td>\n",
       "      <td>Data Analytics Specialist</td>\n",
       "      <td>258</td>\n",
       "      <td>09-04-2022</td>\n",
       "      <td>09-12-2022</td>\n",
       "      <td>0</td>\n",
       "      <td>1</td>\n",
       "      <td>0.000000</td>\n",
       "      <td>0.017931</td>\n",
       "      <td>0.042568</td>\n",
       "      <td>0.000000</td>\n",
       "      <td>0.030657</td>\n",
       "      <td>0.023001</td>\n",
       "      <td>0.000000</td>\n",
       "      <td>data analytics</td>\n",
       "    </tr>\n",
       "    <tr>\n",
       "      <th>3</th>\n",
       "      <td>7186</td>\n",
       "      <td>/partner/jobListing.htm?pos=106&amp;ao=1110586&amp;s=5...</td>\n",
       "      <td>Vertex Pharmaceuticals</td>\n",
       "      <td>Contractor, Data Analytics</td>\n",
       "      <td>246</td>\n",
       "      <td>09-07-2022</td>\n",
       "      <td>09-12-2022</td>\n",
       "      <td>1</td>\n",
       "      <td>1</td>\n",
       "      <td>0.014450</td>\n",
       "      <td>0.043406</td>\n",
       "      <td>0.057250</td>\n",
       "      <td>0.023145</td>\n",
       "      <td>0.000000</td>\n",
       "      <td>0.000000</td>\n",
       "      <td>0.017837</td>\n",
       "      <td>both</td>\n",
       "    </tr>\n",
       "    <tr>\n",
       "      <th>4</th>\n",
       "      <td>976</td>\n",
       "      <td>/partner/jobListing.htm?pos=206&amp;ao=1110586&amp;s=5...</td>\n",
       "      <td>John Deere</td>\n",
       "      <td>Data Science &amp; Analytics Development Program 2...</td>\n",
       "      <td>214</td>\n",
       "      <td>09-03-2022</td>\n",
       "      <td>09-12-2022</td>\n",
       "      <td>1</td>\n",
       "      <td>0</td>\n",
       "      <td>0.024316</td>\n",
       "      <td>0.024348</td>\n",
       "      <td>0.038536</td>\n",
       "      <td>0.000000</td>\n",
       "      <td>0.000000</td>\n",
       "      <td>0.031234</td>\n",
       "      <td>0.000000</td>\n",
       "      <td>data science</td>\n",
       "    </tr>\n",
       "  </tbody>\n",
       "</table>\n",
       "</div>"
      ],
      "text/plain": [
       "     id                                                url  \\\n",
       "0   983  /partner/jobListing.htm?pos=213&ao=1110586&s=5...   \n",
       "1    72  /partner/jobListing.htm?pos=203&ao=1110586&s=5...   \n",
       "2  1876  /partner/jobListing.htm?pos=206&ao=1110586&s=5...   \n",
       "3  7186  /partner/jobListing.htm?pos=106&ao=1110586&s=5...   \n",
       "4   976  /partner/jobListing.htm?pos=206&ao=1110586&s=5...   \n",
       "\n",
       "                            company  \\\n",
       "0  First Financial Asset Management   \n",
       "1                        John Deere   \n",
       "2                FrankCrum Staffing   \n",
       "3            Vertex Pharmaceuticals   \n",
       "4                        John Deere   \n",
       "\n",
       "                                           job_title  duplicates  \\\n",
       "0           Data Analytics Associate of Data Science         288   \n",
       "1            Part-Time Student-Data Analytics-Remote         280   \n",
       "2                          Data Analytics Specialist         258   \n",
       "3                         Contractor, Data Analytics         246   \n",
       "4  Data Science & Analytics Development Program 2...         214   \n",
       "\n",
       "  first_date_scraped latest_date_scraped  data_science  data_analytics  \\\n",
       "0         09-03-2022          09-11-2022             1               1   \n",
       "1         09-03-2022          09-08-2022             1               1   \n",
       "2         09-04-2022          09-12-2022             0               1   \n",
       "3         09-07-2022          09-12-2022             1               1   \n",
       "4         09-03-2022          09-12-2022             1               0   \n",
       "\n",
       "     python  knowledge  business  database  dashboards  statistical   machine  \\\n",
       "0  0.049160   0.000000  0.038954  0.000000    0.000000     0.031573  0.000000   \n",
       "1  0.016488   0.033019  0.000000  0.000000    0.000000     0.000000  0.020352   \n",
       "2  0.000000   0.017931  0.042568  0.000000    0.030657     0.023001  0.000000   \n",
       "3  0.014450   0.043406  0.057250  0.023145    0.000000     0.000000  0.017837   \n",
       "4  0.024316   0.024348  0.038536  0.000000    0.000000     0.031234  0.000000   \n",
       "\n",
       "         category  \n",
       "0            both  \n",
       "1            both  \n",
       "2  data analytics  \n",
       "3            both  \n",
       "4    data science  "
      ]
     },
     "execution_count": 19,
     "metadata": {},
     "output_type": "execute_result"
    }
   ],
   "source": [
    "metadf.head()"
   ]
  },
  {
   "cell_type": "markdown",
   "id": "99686752-8802-4740-80b9-3946118a1ee3",
   "metadata": {},
   "source": [
    "### Histogram for the term _python_"
   ]
  },
  {
   "cell_type": "code",
   "execution_count": 21,
   "id": "d30b5c37-8212-4247-8247-097992c07755",
   "metadata": {},
   "outputs": [
    {
     "name": "stderr",
     "output_type": "stream",
     "text": [
      "/Users/thaochu/anaconda3/envs/data-analytics/lib/python3.11/site-packages/seaborn/_oldcore.py:1498: FutureWarning: is_categorical_dtype is deprecated and will be removed in a future version. Use isinstance(dtype, CategoricalDtype) instead\n",
      "  if pd.api.types.is_categorical_dtype(vector):\n",
      "/Users/thaochu/anaconda3/envs/data-analytics/lib/python3.11/site-packages/seaborn/_oldcore.py:1498: FutureWarning: is_categorical_dtype is deprecated and will be removed in a future version. Use isinstance(dtype, CategoricalDtype) instead\n",
      "  if pd.api.types.is_categorical_dtype(vector):\n",
      "/Users/thaochu/anaconda3/envs/data-analytics/lib/python3.11/site-packages/seaborn/_oldcore.py:1498: FutureWarning: is_categorical_dtype is deprecated and will be removed in a future version. Use isinstance(dtype, CategoricalDtype) instead\n",
      "  if pd.api.types.is_categorical_dtype(vector):\n",
      "/Users/thaochu/anaconda3/envs/data-analytics/lib/python3.11/site-packages/seaborn/_oldcore.py:1498: FutureWarning: is_categorical_dtype is deprecated and will be removed in a future version. Use isinstance(dtype, CategoricalDtype) instead\n",
      "  if pd.api.types.is_categorical_dtype(vector):\n",
      "/Users/thaochu/anaconda3/envs/data-analytics/lib/python3.11/site-packages/seaborn/_oldcore.py:1119: FutureWarning: use_inf_as_na option is deprecated and will be removed in a future version. Convert inf values to NaN before operating instead.\n",
      "  with pd.option_context('mode.use_inf_as_na', True):\n"
     ]
    },
    {
     "data": {
      "text/plain": [
       "<Axes: xlabel='python', ylabel='Count'>"
      ]
     },
     "execution_count": 21,
     "metadata": {},
     "output_type": "execute_result"
    },
    {
     "data": {
      "image/png": "[encoded data removed]",
      "text/plain": [
       "<Figure size 640x480 with 1 Axes>"
      ]
     },
     "metadata": {},
     "output_type": "display_data"
    }
   ],
   "source": [
    "import seaborn as sns\n",
    "sns.histplot(data=metadf, x='python', hue = 'category', multiple = 'stack')"
   ]
  },
  {
   "cell_type": "markdown",
   "id": "bfb10d4a-ea23-44d0-8dd7-6d00832311ce",
   "metadata": {},
   "source": [
    "### Histogram for the term _knowledge_"
   ]
  },
  {
   "cell_type": "code",
   "execution_count": 22,
   "id": "77e83317-e207-405a-be0e-1fc3aa9e233c",
   "metadata": {},
   "outputs": [
    {
     "name": "stderr",
     "output_type": "stream",
     "text": [
      "/Users/thaochu/anaconda3/envs/data-analytics/lib/python3.11/site-packages/seaborn/_oldcore.py:1498: FutureWarning: is_categorical_dtype is deprecated and will be removed in a future version. Use isinstance(dtype, CategoricalDtype) instead\n",
      "  if pd.api.types.is_categorical_dtype(vector):\n",
      "/Users/thaochu/anaconda3/envs/data-analytics/lib/python3.11/site-packages/seaborn/_oldcore.py:1498: FutureWarning: is_categorical_dtype is deprecated and will be removed in a future version. Use isinstance(dtype, CategoricalDtype) instead\n",
      "  if pd.api.types.is_categorical_dtype(vector):\n",
      "/Users/thaochu/anaconda3/envs/data-analytics/lib/python3.11/site-packages/seaborn/_oldcore.py:1498: FutureWarning: is_categorical_dtype is deprecated and will be removed in a future version. Use isinstance(dtype, CategoricalDtype) instead\n",
      "  if pd.api.types.is_categorical_dtype(vector):\n",
      "/Users/thaochu/anaconda3/envs/data-analytics/lib/python3.11/site-packages/seaborn/_oldcore.py:1498: FutureWarning: is_categorical_dtype is deprecated and will be removed in a future version. Use isinstance(dtype, CategoricalDtype) instead\n",
      "  if pd.api.types.is_categorical_dtype(vector):\n",
      "/Users/thaochu/anaconda3/envs/data-analytics/lib/python3.11/site-packages/seaborn/_oldcore.py:1119: FutureWarning: use_inf_as_na option is deprecated and will be removed in a future version. Convert inf values to NaN before operating instead.\n",
      "  with pd.option_context('mode.use_inf_as_na', True):\n"
     ]
    },
    {
     "data": {
      "text/plain": [
       "<Axes: xlabel='knowledge', ylabel='Count'>"
      ]
     },
     "execution_count": 22,
     "metadata": {},
     "output_type": "execute_result"
    },
    {
     "data": {
      "image/png": "[encoded data removed]",
      "text/plain": [
       "<Figure size 640x480 with 1 Axes>"
      ]
     },
     "metadata": {},
     "output_type": "display_data"
    }
   ],
   "source": [
    "sns.histplot(data=metadf, x='knowledge', hue = 'category', multiple = 'stack')"
   ]
  },
  {
   "cell_type": "markdown",
   "id": "a7dc560c-b933-41ee-b630-f960cb803e20",
   "metadata": {},
   "source": [
    "### Histogram for the term _business_"
   ]
  },
  {
   "cell_type": "code",
   "execution_count": 23,
   "id": "c5664233-e39f-43fd-83dc-6e39c5f7c7e8",
   "metadata": {},
   "outputs": [
    {
     "name": "stderr",
     "output_type": "stream",
     "text": [
      "/Users/thaochu/anaconda3/envs/data-analytics/lib/python3.11/site-packages/seaborn/_oldcore.py:1498: FutureWarning: is_categorical_dtype is deprecated and will be removed in a future version. Use isinstance(dtype, CategoricalDtype) instead\n",
      "  if pd.api.types.is_categorical_dtype(vector):\n",
      "/Users/thaochu/anaconda3/envs/data-analytics/lib/python3.11/site-packages/seaborn/_oldcore.py:1498: FutureWarning: is_categorical_dtype is deprecated and will be removed in a future version. Use isinstance(dtype, CategoricalDtype) instead\n",
      "  if pd.api.types.is_categorical_dtype(vector):\n",
      "/Users/thaochu/anaconda3/envs/data-analytics/lib/python3.11/site-packages/seaborn/_oldcore.py:1498: FutureWarning: is_categorical_dtype is deprecated and will be removed in a future version. Use isinstance(dtype, CategoricalDtype) instead\n",
      "  if pd.api.types.is_categorical_dtype(vector):\n",
      "/Users/thaochu/anaconda3/envs/data-analytics/lib/python3.11/site-packages/seaborn/_oldcore.py:1498: FutureWarning: is_categorical_dtype is deprecated and will be removed in a future version. Use isinstance(dtype, CategoricalDtype) instead\n",
      "  if pd.api.types.is_categorical_dtype(vector):\n",
      "/Users/thaochu/anaconda3/envs/data-analytics/lib/python3.11/site-packages/seaborn/_oldcore.py:1119: FutureWarning: use_inf_as_na option is deprecated and will be removed in a future version. Convert inf values to NaN before operating instead.\n",
      "  with pd.option_context('mode.use_inf_as_na', True):\n"
     ]
    },
    {
     "data": {
      "text/plain": [
       "<Axes: xlabel='business', ylabel='Count'>"
      ]
     },
     "execution_count": 23,
     "metadata": {},
     "output_type": "execute_result"
    },
    {
     "data": {
      "image/png": "[encoded data removed]",
      "text/plain": [
       "<Figure size 640x480 with 1 Axes>"
      ]
     },
     "metadata": {},
     "output_type": "display_data"
    }
   ],
   "source": [
    "sns.histplot(data=metadf, x='business', hue = 'category', multiple = 'stack')"
   ]
  },
  {
   "cell_type": "markdown",
   "id": "b067e3e5-2eb5-4a2b-b502-ea4f3231a495",
   "metadata": {},
   "source": [
    "### Histogram for the term _database_"
   ]
  },
  {
   "cell_type": "code",
   "execution_count": 24,
   "id": "e10ea402-8fa8-4d28-b7c1-09c29273250f",
   "metadata": {},
   "outputs": [
    {
     "name": "stderr",
     "output_type": "stream",
     "text": [
      "/Users/thaochu/anaconda3/envs/data-analytics/lib/python3.11/site-packages/seaborn/_oldcore.py:1498: FutureWarning: is_categorical_dtype is deprecated and will be removed in a future version. Use isinstance(dtype, CategoricalDtype) instead\n",
      "  if pd.api.types.is_categorical_dtype(vector):\n",
      "/Users/thaochu/anaconda3/envs/data-analytics/lib/python3.11/site-packages/seaborn/_oldcore.py:1498: FutureWarning: is_categorical_dtype is deprecated and will be removed in a future version. Use isinstance(dtype, CategoricalDtype) instead\n",
      "  if pd.api.types.is_categorical_dtype(vector):\n",
      "/Users/thaochu/anaconda3/envs/data-analytics/lib/python3.11/site-packages/seaborn/_oldcore.py:1498: FutureWarning: is_categorical_dtype is deprecated and will be removed in a future version. Use isinstance(dtype, CategoricalDtype) instead\n",
      "  if pd.api.types.is_categorical_dtype(vector):\n",
      "/Users/thaochu/anaconda3/envs/data-analytics/lib/python3.11/site-packages/seaborn/_oldcore.py:1498: FutureWarning: is_categorical_dtype is deprecated and will be removed in a future version. Use isinstance(dtype, CategoricalDtype) instead\n",
      "  if pd.api.types.is_categorical_dtype(vector):\n",
      "/Users/thaochu/anaconda3/envs/data-analytics/lib/python3.11/site-packages/seaborn/_oldcore.py:1119: FutureWarning: use_inf_as_na option is deprecated and will be removed in a future version. Convert inf values to NaN before operating instead.\n",
      "  with pd.option_context('mode.use_inf_as_na', True):\n"
     ]
    },
    {
     "data": {
      "text/plain": [
       "<Axes: xlabel='database', ylabel='Count'>"
      ]
     },
     "execution_count": 24,
     "metadata": {},
     "output_type": "execute_result"
    },
    {
     "data": {
      "image/png": "[encoded data removed]",
      "text/plain": [
       "<Figure size 640x480 with 1 Axes>"
      ]
     },
     "metadata": {},
     "output_type": "display_data"
    }
   ],
   "source": [
    "sns.histplot(data=metadf, x='database', hue = 'category', multiple = 'stack')"
   ]
  },
  {
   "cell_type": "markdown",
   "id": "882cdbb3-2a92-4e73-a829-c651023ed921",
   "metadata": {},
   "source": [
    "### Histogram for the term _dashboards_"
   ]
  },
  {
   "cell_type": "code",
   "execution_count": 25,
   "id": "5080a3df-5a7e-4d88-9093-71dd6bd0c534",
   "metadata": {},
   "outputs": [
    {
     "name": "stderr",
     "output_type": "stream",
     "text": [
      "/Users/thaochu/anaconda3/envs/data-analytics/lib/python3.11/site-packages/seaborn/_oldcore.py:1498: FutureWarning: is_categorical_dtype is deprecated and will be removed in a future version. Use isinstance(dtype, CategoricalDtype) instead\n",
      "  if pd.api.types.is_categorical_dtype(vector):\n",
      "/Users/thaochu/anaconda3/envs/data-analytics/lib/python3.11/site-packages/seaborn/_oldcore.py:1498: FutureWarning: is_categorical_dtype is deprecated and will be removed in a future version. Use isinstance(dtype, CategoricalDtype) instead\n",
      "  if pd.api.types.is_categorical_dtype(vector):\n",
      "/Users/thaochu/anaconda3/envs/data-analytics/lib/python3.11/site-packages/seaborn/_oldcore.py:1498: FutureWarning: is_categorical_dtype is deprecated and will be removed in a future version. Use isinstance(dtype, CategoricalDtype) instead\n",
      "  if pd.api.types.is_categorical_dtype(vector):\n",
      "/Users/thaochu/anaconda3/envs/data-analytics/lib/python3.11/site-packages/seaborn/_oldcore.py:1498: FutureWarning: is_categorical_dtype is deprecated and will be removed in a future version. Use isinstance(dtype, CategoricalDtype) instead\n",
      "  if pd.api.types.is_categorical_dtype(vector):\n",
      "/Users/thaochu/anaconda3/envs/data-analytics/lib/python3.11/site-packages/seaborn/_oldcore.py:1119: FutureWarning: use_inf_as_na option is deprecated and will be removed in a future version. Convert inf values to NaN before operating instead.\n",
      "  with pd.option_context('mode.use_inf_as_na', True):\n"
     ]
    },
    {
     "data": {
      "text/plain": [
       "<Axes: xlabel='dashboards', ylabel='Count'>"
      ]
     },
     "execution_count": 25,
     "metadata": {},
     "output_type": "execute_result"
    },
    {
     "data": {
      "image/png": "[encoded data removed]",
      "text/plain": [
       "<Figure size 640x480 with 1 Axes>"
      ]
     },
     "metadata": {},
     "output_type": "display_data"
    }
   ],
   "source": [
    "sns.histplot(data=metadf, x='dashboards', hue = 'category', multiple = 'stack')"
   ]
  },
  {
   "cell_type": "markdown",
   "id": "2b296977-7db2-49d9-8fe6-98c56ba170de",
   "metadata": {},
   "source": [
    "### Histogram for the term _statistical_"
   ]
  },
  {
   "cell_type": "code",
   "execution_count": 26,
   "id": "312bf16d-d671-40eb-b995-d9d3413a21c5",
   "metadata": {},
   "outputs": [
    {
     "name": "stderr",
     "output_type": "stream",
     "text": [
      "/Users/thaochu/anaconda3/envs/data-analytics/lib/python3.11/site-packages/seaborn/_oldcore.py:1498: FutureWarning: is_categorical_dtype is deprecated and will be removed in a future version. Use isinstance(dtype, CategoricalDtype) instead\n",
      "  if pd.api.types.is_categorical_dtype(vector):\n",
      "/Users/thaochu/anaconda3/envs/data-analytics/lib/python3.11/site-packages/seaborn/_oldcore.py:1498: FutureWarning: is_categorical_dtype is deprecated and will be removed in a future version. Use isinstance(dtype, CategoricalDtype) instead\n",
      "  if pd.api.types.is_categorical_dtype(vector):\n",
      "/Users/thaochu/anaconda3/envs/data-analytics/lib/python3.11/site-packages/seaborn/_oldcore.py:1498: FutureWarning: is_categorical_dtype is deprecated and will be removed in a future version. Use isinstance(dtype, CategoricalDtype) instead\n",
      "  if pd.api.types.is_categorical_dtype(vector):\n",
      "/Users/thaochu/anaconda3/envs/data-analytics/lib/python3.11/site-packages/seaborn/_oldcore.py:1498: FutureWarning: is_categorical_dtype is deprecated and will be removed in a future version. Use isinstance(dtype, CategoricalDtype) instead\n",
      "  if pd.api.types.is_categorical_dtype(vector):\n",
      "/Users/thaochu/anaconda3/envs/data-analytics/lib/python3.11/site-packages/seaborn/_oldcore.py:1119: FutureWarning: use_inf_as_na option is deprecated and will be removed in a future version. Convert inf values to NaN before operating instead.\n",
      "  with pd.option_context('mode.use_inf_as_na', True):\n"
     ]
    },
    {
     "data": {
      "text/plain": [
       "<Axes: xlabel='statistical', ylabel='Count'>"
      ]
     },
     "execution_count": 26,
     "metadata": {},
     "output_type": "execute_result"
    },
    {
     "data": {
      "image/png": "[encoded data removed]",
      "text/plain": [
       "<Figure size 640x480 with 1 Axes>"
      ]
     },
     "metadata": {},
     "output_type": "display_data"
    }
   ],
   "source": [
    "sns.histplot(data=metadf, x='statistical', hue = 'category', multiple = 'stack')"
   ]
  },
  {
   "cell_type": "markdown",
   "id": "b27864b2-0c57-4cd3-b00b-eed4cc47d6a3",
   "metadata": {},
   "source": [
    "### Histogram for the term _machine_"
   ]
  },
  {
   "cell_type": "code",
   "execution_count": 27,
   "id": "1fc08b0f-2c74-4c12-a3b9-7460c508d2a1",
   "metadata": {},
   "outputs": [
    {
     "name": "stderr",
     "output_type": "stream",
     "text": [
      "/Users/thaochu/anaconda3/envs/data-analytics/lib/python3.11/site-packages/seaborn/_oldcore.py:1498: FutureWarning: is_categorical_dtype is deprecated and will be removed in a future version. Use isinstance(dtype, CategoricalDtype) instead\n",
      "  if pd.api.types.is_categorical_dtype(vector):\n",
      "/Users/thaochu/anaconda3/envs/data-analytics/lib/python3.11/site-packages/seaborn/_oldcore.py:1498: FutureWarning: is_categorical_dtype is deprecated and will be removed in a future version. Use isinstance(dtype, CategoricalDtype) instead\n",
      "  if pd.api.types.is_categorical_dtype(vector):\n",
      "/Users/thaochu/anaconda3/envs/data-analytics/lib/python3.11/site-packages/seaborn/_oldcore.py:1498: FutureWarning: is_categorical_dtype is deprecated and will be removed in a future version. Use isinstance(dtype, CategoricalDtype) instead\n",
      "  if pd.api.types.is_categorical_dtype(vector):\n",
      "/Users/thaochu/anaconda3/envs/data-analytics/lib/python3.11/site-packages/seaborn/_oldcore.py:1498: FutureWarning: is_categorical_dtype is deprecated and will be removed in a future version. Use isinstance(dtype, CategoricalDtype) instead\n",
      "  if pd.api.types.is_categorical_dtype(vector):\n",
      "/Users/thaochu/anaconda3/envs/data-analytics/lib/python3.11/site-packages/seaborn/_oldcore.py:1119: FutureWarning: use_inf_as_na option is deprecated and will be removed in a future version. Convert inf values to NaN before operating instead.\n",
      "  with pd.option_context('mode.use_inf_as_na', True):\n"
     ]
    },
    {
     "data": {
      "text/plain": [
       "<Axes: xlabel='machine', ylabel='Count'>"
      ]
     },
     "execution_count": 27,
     "metadata": {},
     "output_type": "execute_result"
    },
    {
     "data": {
      "image/png": "[encoded data removed]",
      "text/plain": [
       "<Figure size 640x480 with 1 Axes>"
      ]
     },
     "metadata": {},
     "output_type": "display_data"
    }
   ],
   "source": [
    "sns.histplot(data=metadf, x='machine', hue = 'category', multiple = 'stack')"
   ]
  },
  {
   "cell_type": "markdown",
   "id": "5b181bb8-8d30-4ba3-9672-23621e288828",
   "metadata": {},
   "source": [
    "#### Histograms are great for visualizing distributions, but they won't help us find the keywords that best separate \"data analytics\" jobs from \"data science\" jobs. For that, we need to calculate some kind of score for each key term and then make a ranked list of the terms with the biggest difference. The simplest way to do this is by comparing the mean TF-IDF scores for \"data analytics\" jobs and \"data science\" for each word, but means can be deceiving if we have different standard deviations in our samples, so we can normalize with a measure called Cohen's D, which is calculated as | ( mean 1 - mean 2 ) | / SP, where SP equals the pooled standard deviations for the two groups. The result of a Cohen's D test is called an effect size."
   ]
  },
  {
   "cell_type": "code",
   "execution_count": 29,
   "id": "6b4f0946-13b5-46bf-9ca6-8ec17235cb9a",
   "metadata": {},
   "outputs": [],
   "source": [
    "def cohen_D(x,y):\n",
    "    '''\n",
    "    takes 2 list and return effect size\n",
    "    '''\n",
    "    return (np.mean(x) - np.mean(y)) / (sqrt((np.stdev(x) ** 2 + np.stdev(y) ** 2) / 2))"
   ]
  },
  {
   "cell_type": "code",
   "execution_count": 30,
   "id": "6a464d8a-b651-4016-8059-f239619c2a96",
   "metadata": {},
   "outputs": [],
   "source": [
    "# get lists of index for data science and data analytics job\n",
    "# does not include both category\n",
    "ds_index = metadf.index[metadf['category'] == 'data science'].tolist()\n",
    "da_index = metadf.index[metadf['category'] == 'data analytics'].tolist()"
   ]
  },
  {
   "cell_type": "code",
   "execution_count": 31,
   "id": "a210d305-acb3-4b68-8fa6-62f0188ea151",
   "metadata": {},
   "outputs": [],
   "source": [
    "# concatenate all frames for data science\n",
    "ds_all_dfs = [doc_dfs[i] for i in ds_index]\n",
    "ds_df = pd.concat(ds_all_dfs)"
   ]
  },
  {
   "cell_type": "code",
   "execution_count": 32,
   "id": "012cf5fa-1995-4630-80c1-529da5a2c225",
   "metadata": {},
   "outputs": [],
   "source": [
    "# concatenate all frames for data analytics\n",
    "da_all_dfs = [doc_dfs[i] for i in da_index]\n",
    "da_df = pd.concat(da_all_dfs)"
   ]
  },
  {
   "cell_type": "code",
   "execution_count": 33,
   "id": "2700f41d-8387-4a27-a033-817b1c43b48c",
   "metadata": {},
   "outputs": [],
   "source": [
    "ds_words = ds_df.groupby('term')['score'].apply(list).to_frame()"
   ]
  },
  {
   "cell_type": "code",
   "execution_count": 34,
   "id": "c8c7e63b-a996-41df-ae1c-eca87fb37e21",
   "metadata": {},
   "outputs": [],
   "source": [
    "da_words = da_df.groupby('term')['score'].apply(list).to_frame()"
   ]
  },
  {
   "cell_type": "code",
   "execution_count": 35,
   "id": "77b558fc-591e-4b47-b591-6b50f5593c61",
   "metadata": {},
   "outputs": [],
   "source": [
    "cohend_df = pd.merge(ds_words, da_words, on=\"term\").reset_index()"
   ]
  },
  {
   "cell_type": "code",
   "execution_count": 36,
   "id": "fc1e69e4-1482-4cbf-912d-0fde4d19fc39",
   "metadata": {},
   "outputs": [],
   "source": [
    "cohend_df['data_science_mean'] = cohend_df['score_x'].apply(lambda x: np.mean(x))\n",
    "cohend_df['data_analytics_mean'] = cohend_df['score_y'].apply(lambda x: np.mean(x))"
   ]
  },
  {
   "cell_type": "code",
   "execution_count": 37,
   "id": "2d3f8126-1c14-4125-ad97-209e0fb0c430",
   "metadata": {},
   "outputs": [],
   "source": [
    "cohend_df['std_ds'] = cohend_df['score_x'].apply(lambda x: np.std(x))\n",
    "cohend_df['std_da'] = cohend_df['score_y'].apply(lambda x: np.std(x))"
   ]
  },
  {
   "cell_type": "code",
   "execution_count": 38,
   "id": "71cfdc48-e833-4ecb-8a97-fa71d95162bf",
   "metadata": {},
   "outputs": [],
   "source": [
    "def cohen_D(row):\n",
    "    return (row['data_science_mean'] - row['data_analytics_mean']) / (np.sqrt((row['std_ds'] ** 2 + row['std_da'] ** 2) / 2))"
   ]
  },
  {
   "cell_type": "code",
   "execution_count": 39,
   "id": "bb9f5056-73ef-4dd5-b4ed-66023168911d",
   "metadata": {},
   "outputs": [
    {
     "name": "stderr",
     "output_type": "stream",
     "text": [
      "/var/folders/rn/yjyn25416fq_ty8w0zc5f06m0000gn/T/ipykernel_91783/274558904.py:2: RuntimeWarning: invalid value encountered in scalar divide\n",
      "  return (row['data_science_mean'] - row['data_analytics_mean']) / (np.sqrt((row['std_ds'] ** 2 + row['std_da'] ** 2) / 2))\n"
     ]
    }
   ],
   "source": [
    "cohend_df['effect_size'] = cohend_df.apply(lambda x: cohen_D(x), axis = 1)"
   ]
  },
  {
   "cell_type": "code",
   "execution_count": 40,
   "id": "45122569-ade4-4680-bb03-9581dcfdcf58",
   "metadata": {},
   "outputs": [],
   "source": [
    "cohend_df.sort_values(by = 'effect_size', ascending = False, inplace= True)\n",
    "cohend_df.drop(['score_x', 'score_y', 'std_ds', 'std_da'], axis=1, inplace=True)"
   ]
  },
  {
   "cell_type": "code",
   "execution_count": 41,
   "id": "26487d86-a31f-49bc-9173-1c53538c250b",
   "metadata": {},
   "outputs": [
    {
     "data": {
      "text/html": [
       "<div>\n",
       "<style scoped>\n",
       "    .dataframe tbody tr th:only-of-type {\n",
       "        vertical-align: middle;\n",
       "    }\n",
       "\n",
       "    .dataframe tbody tr th {\n",
       "        vertical-align: top;\n",
       "    }\n",
       "\n",
       "    .dataframe thead th {\n",
       "        text-align: right;\n",
       "    }\n",
       "</style>\n",
       "<table border=\"1\" class=\"dataframe\">\n",
       "  <thead>\n",
       "    <tr style=\"text-align: right;\">\n",
       "      <th></th>\n",
       "      <th>term</th>\n",
       "      <th>data_science_mean</th>\n",
       "      <th>data_analytics_mean</th>\n",
       "      <th>effect_size</th>\n",
       "    </tr>\n",
       "  </thead>\n",
       "  <tbody>\n",
       "    <tr>\n",
       "      <th>13350</th>\n",
       "      <td>science</td>\n",
       "      <td>0.050331</td>\n",
       "      <td>0.009172</td>\n",
       "      <td>1.313713</td>\n",
       "    </tr>\n",
       "    <tr>\n",
       "      <th>9004</th>\n",
       "      <td>machine</td>\n",
       "      <td>0.026341</td>\n",
       "      <td>0.006302</td>\n",
       "      <td>0.651523</td>\n",
       "    </tr>\n",
       "    <tr>\n",
       "      <th>8668</th>\n",
       "      <td>learning</td>\n",
       "      <td>0.032203</td>\n",
       "      <td>0.010571</td>\n",
       "      <td>0.598316</td>\n",
       "    </tr>\n",
       "    <tr>\n",
       "      <th>12025</th>\n",
       "      <td>python</td>\n",
       "      <td>0.022995</td>\n",
       "      <td>0.010047</td>\n",
       "      <td>0.554914</td>\n",
       "    </tr>\n",
       "    <tr>\n",
       "      <th>13370</th>\n",
       "      <td>scientist</td>\n",
       "      <td>0.017632</td>\n",
       "      <td>0.002573</td>\n",
       "      <td>0.535077</td>\n",
       "    </tr>\n",
       "    <tr>\n",
       "      <th>...</th>\n",
       "      <td>...</td>\n",
       "      <td>...</td>\n",
       "      <td>...</td>\n",
       "      <td>...</td>\n",
       "    </tr>\n",
       "    <tr>\n",
       "      <th>16509</th>\n",
       "      <td>xperience</td>\n",
       "      <td>0.000000</td>\n",
       "      <td>0.000000</td>\n",
       "      <td>NaN</td>\n",
       "    </tr>\n",
       "    <tr>\n",
       "      <th>16512</th>\n",
       "      <td>xray</td>\n",
       "      <td>0.000000</td>\n",
       "      <td>0.000000</td>\n",
       "      <td>NaN</td>\n",
       "    </tr>\n",
       "    <tr>\n",
       "      <th>16545</th>\n",
       "      <td>yhlzffgrwd</td>\n",
       "      <td>0.000000</td>\n",
       "      <td>0.000000</td>\n",
       "      <td>NaN</td>\n",
       "    </tr>\n",
       "    <tr>\n",
       "      <th>16550</th>\n",
       "      <td>yolo</td>\n",
       "      <td>0.000000</td>\n",
       "      <td>0.000000</td>\n",
       "      <td>NaN</td>\n",
       "    </tr>\n",
       "    <tr>\n",
       "      <th>16559</th>\n",
       "      <td>youfoodz</td>\n",
       "      <td>0.000000</td>\n",
       "      <td>0.000000</td>\n",
       "      <td>NaN</td>\n",
       "    </tr>\n",
       "  </tbody>\n",
       "</table>\n",
       "<p>16602 rows × 4 columns</p>\n",
       "</div>"
      ],
      "text/plain": [
       "             term  data_science_mean  data_analytics_mean  effect_size\n",
       "13350     science           0.050331             0.009172     1.313713\n",
       "9004      machine           0.026341             0.006302     0.651523\n",
       "8668     learning           0.032203             0.010571     0.598316\n",
       "12025      python           0.022995             0.010047     0.554914\n",
       "13370   scientist           0.017632             0.002573     0.535077\n",
       "...           ...                ...                  ...          ...\n",
       "16509   xperience           0.000000             0.000000          NaN\n",
       "16512        xray           0.000000             0.000000          NaN\n",
       "16545  yhlzffgrwd           0.000000             0.000000          NaN\n",
       "16550        yolo           0.000000             0.000000          NaN\n",
       "16559    youfoodz           0.000000             0.000000          NaN\n",
       "\n",
       "[16602 rows x 4 columns]"
      ]
     },
     "execution_count": 41,
     "metadata": {},
     "output_type": "execute_result"
    }
   ],
   "source": [
    "cohend_df"
   ]
  },
  {
   "cell_type": "markdown",
   "id": "57ebda20-d317-4db3-a98d-6e3525612497",
   "metadata": {},
   "source": [
    "#### Using pandas, make a Data Frame of the various job titles from the ads, with one column for the title, and a second column for the number of ads matching that title. Sort the Data Frame in order of the job ad count, so that the most frequent job title is the first row of the Data Frame. If any job titles are trivially different from one another, merge them into one title. (For example, 'Junior Data Scientist' and 'Jr. Data Scientist' could be merged.)"
   ]
  },
  {
   "cell_type": "code",
   "execution_count": 42,
   "id": "634b4361-f902-48f6-867e-d9eea59bd059",
   "metadata": {},
   "outputs": [],
   "source": [
    "from Levenshtein import distance as lev"
   ]
  },
  {
   "cell_type": "code",
   "execution_count": 43,
   "id": "7901e748-4196-440f-908a-6edd0c6ebd9b",
   "metadata": {},
   "outputs": [
    {
     "data": {
      "text/plain": [
       "5"
      ]
     },
     "execution_count": 43,
     "metadata": {},
     "output_type": "execute_result"
    }
   ],
   "source": [
    "lev('Jr. Data Scientist', 'Junior Data Scientist')"
   ]
  },
  {
   "cell_type": "code",
   "execution_count": 44,
   "id": "cb8db7ca-78f8-4438-b900-635e979f9382",
   "metadata": {},
   "outputs": [],
   "source": [
    "df_titles = metadf[['job_title', 'duplicates']]"
   ]
  },
  {
   "cell_type": "code",
   "execution_count": 45,
   "id": "59d814a1-6e9b-4445-8631-e50f845eb58e",
   "metadata": {},
   "outputs": [],
   "source": [
    "num_ads = {}\n",
    "dup = False\n",
    "\n",
    "# loop through all titles in the df\n",
    "for i in range(len(df_titles)):\n",
    "    for k in list(num_ads.keys()):\n",
    "        # 8 is arbitrary for the distance, the lower the more accurate 2 strings are matched\n",
    "        if lev(df_titles['job_title'][i], k) <= 8:\n",
    "            # this only counts duplicates in the meta data frame, not overall duplicates\n",
    "            # change to += df_titles.loc[df_titles['job_title'][i], 'duplicates'] if count all\n",
    "            num_ads[k] += 1\n",
    "            dup = True\n",
    "            break\n",
    "    if not dup:\n",
    "        # add a key-value to dictionary\n",
    "        num_ads[df_titles['job_title'][i]] = 1\n",
    "    dup = False"
   ]
  },
  {
   "cell_type": "code",
   "execution_count": 46,
   "id": "cc7340ce-1852-412d-99cc-87c89464453e",
   "metadata": {},
   "outputs": [
    {
     "data": {
      "text/html": [
       "<div>\n",
       "<style scoped>\n",
       "    .dataframe tbody tr th:only-of-type {\n",
       "        vertical-align: middle;\n",
       "    }\n",
       "\n",
       "    .dataframe tbody tr th {\n",
       "        vertical-align: top;\n",
       "    }\n",
       "\n",
       "    .dataframe thead th {\n",
       "        text-align: right;\n",
       "    }\n",
       "</style>\n",
       "<table border=\"1\" class=\"dataframe\">\n",
       "  <thead>\n",
       "    <tr style=\"text-align: right;\">\n",
       "      <th></th>\n",
       "      <th>job_title</th>\n",
       "      <th>num_ads</th>\n",
       "    </tr>\n",
       "  </thead>\n",
       "  <tbody>\n",
       "    <tr>\n",
       "      <th>37</th>\n",
       "      <td>Data Scientist</td>\n",
       "      <td>111</td>\n",
       "    </tr>\n",
       "    <tr>\n",
       "      <th>12</th>\n",
       "      <td>AVP Data Analytics</td>\n",
       "      <td>68</td>\n",
       "    </tr>\n",
       "    <tr>\n",
       "      <th>7</th>\n",
       "      <td>Data Analytics Manager</td>\n",
       "      <td>31</td>\n",
       "    </tr>\n",
       "    <tr>\n",
       "      <th>2</th>\n",
       "      <td>Data Analytics Specialist</td>\n",
       "      <td>20</td>\n",
       "    </tr>\n",
       "    <tr>\n",
       "      <th>20</th>\n",
       "      <td>Marketing Data Analyst</td>\n",
       "      <td>18</td>\n",
       "    </tr>\n",
       "    <tr>\n",
       "      <th>...</th>\n",
       "      <td>...</td>\n",
       "      <td>...</td>\n",
       "    </tr>\n",
       "    <tr>\n",
       "      <th>200</th>\n",
       "      <td>Senior Analyst - Advanced Data Analytics</td>\n",
       "      <td>1</td>\n",
       "    </tr>\n",
       "    <tr>\n",
       "      <th>199</th>\n",
       "      <td>Senior Data Analyst - Search Relevancy (100% R...</td>\n",
       "      <td>1</td>\n",
       "    </tr>\n",
       "    <tr>\n",
       "      <th>198</th>\n",
       "      <td>Data Scientist (NY, Seattle or Remote)</td>\n",
       "      <td>1</td>\n",
       "    </tr>\n",
       "    <tr>\n",
       "      <th>197</th>\n",
       "      <td>Ph.D. Scientist - R&amp;D</td>\n",
       "      <td>1</td>\n",
       "    </tr>\n",
       "    <tr>\n",
       "      <th>493</th>\n",
       "      <td>Director, Sneakers</td>\n",
       "      <td>1</td>\n",
       "    </tr>\n",
       "  </tbody>\n",
       "</table>\n",
       "<p>494 rows × 2 columns</p>\n",
       "</div>"
      ],
      "text/plain": [
       "                                             job_title  num_ads\n",
       "37                                      Data Scientist      111\n",
       "12                                  AVP Data Analytics       68\n",
       "7                               Data Analytics Manager       31\n",
       "2                            Data Analytics Specialist       20\n",
       "20                              Marketing Data Analyst       18\n",
       "..                                                 ...      ...\n",
       "200           Senior Analyst - Advanced Data Analytics        1\n",
       "199  Senior Data Analyst - Search Relevancy (100% R...        1\n",
       "198             Data Scientist (NY, Seattle or Remote)        1\n",
       "197                              Ph.D. Scientist - R&D        1\n",
       "493                                 Director, Sneakers        1\n",
       "\n",
       "[494 rows x 2 columns]"
      ]
     },
     "execution_count": 46,
     "metadata": {},
     "output_type": "execute_result"
    }
   ],
   "source": [
    "title_dict = {\"job_title\":[], \"num_ads\": []}\n",
    "\n",
    "for key, value in num_ads.items():\n",
    "    title_dict[\"job_title\"].append(key)\n",
    "    title_dict[\"num_ads\"].append(value)\n",
    "\n",
    "title_df = pd.DataFrame(title_dict).sort_values(by = 'num_ads', ascending = False)\n",
    "title_df"
   ]
  },
  {
   "cell_type": "markdown",
   "id": "e38561e2-ae2d-44d5-8cd1-aa586b0cb4e6",
   "metadata": {},
   "source": [
    "#### Using pandas, make a Data Frame of the various companies listing \"data analytics\" jobs and \"data science\" jobs, with one column for the company, and a second column for the number of unique job titles matching that company. Sort the Data Frame in order of the job count, so that the most frequent company is the first row of the Data Frame."
   ]
  },
  {
   "cell_type": "code",
   "execution_count": 47,
   "id": "9de56f0a-67d6-494d-880a-21bf2f6081b2",
   "metadata": {},
   "outputs": [],
   "source": [
    "df_company = metadf[['company', 'job_title', 'data_science', 'data_analytics']]"
   ]
  },
  {
   "cell_type": "code",
   "execution_count": 48,
   "id": "5cb5d319-7f93-47bd-987e-2c9d9c69cc90",
   "metadata": {},
   "outputs": [
    {
     "data": {
      "text/html": [
       "<div>\n",
       "<style scoped>\n",
       "    .dataframe tbody tr th:only-of-type {\n",
       "        vertical-align: middle;\n",
       "    }\n",
       "\n",
       "    .dataframe tbody tr th {\n",
       "        vertical-align: top;\n",
       "    }\n",
       "\n",
       "    .dataframe thead th {\n",
       "        text-align: right;\n",
       "    }\n",
       "</style>\n",
       "<table border=\"1\" class=\"dataframe\">\n",
       "  <thead>\n",
       "    <tr style=\"text-align: right;\">\n",
       "      <th></th>\n",
       "      <th>company</th>\n",
       "      <th>count</th>\n",
       "    </tr>\n",
       "  </thead>\n",
       "  <tbody>\n",
       "    <tr>\n",
       "      <th>40</th>\n",
       "      <td>Apple</td>\n",
       "      <td>29</td>\n",
       "    </tr>\n",
       "    <tr>\n",
       "      <th>234</th>\n",
       "      <td>Insight Global</td>\n",
       "      <td>19</td>\n",
       "    </tr>\n",
       "    <tr>\n",
       "      <th>125</th>\n",
       "      <td>CyberCoders</td>\n",
       "      <td>19</td>\n",
       "    </tr>\n",
       "    <tr>\n",
       "      <th>489</th>\n",
       "      <td>UnitedHealth Group</td>\n",
       "      <td>13</td>\n",
       "    </tr>\n",
       "    <tr>\n",
       "      <th>529</th>\n",
       "      <td>Zillow</td>\n",
       "      <td>9</td>\n",
       "    </tr>\n",
       "    <tr>\n",
       "      <th>...</th>\n",
       "      <td>...</td>\n",
       "      <td>...</td>\n",
       "    </tr>\n",
       "    <tr>\n",
       "      <th>198</th>\n",
       "      <td>Gradient AI</td>\n",
       "      <td>1</td>\n",
       "    </tr>\n",
       "    <tr>\n",
       "      <th>197</th>\n",
       "      <td>Glassdoor</td>\n",
       "      <td>1</td>\n",
       "    </tr>\n",
       "    <tr>\n",
       "      <th>194</th>\n",
       "      <td>General Dynamics Information Technology</td>\n",
       "      <td>1</td>\n",
       "    </tr>\n",
       "    <tr>\n",
       "      <th>193</th>\n",
       "      <td>GenTech Associates</td>\n",
       "      <td>1</td>\n",
       "    </tr>\n",
       "    <tr>\n",
       "      <th>546</th>\n",
       "      <td>mpathic.ai</td>\n",
       "      <td>1</td>\n",
       "    </tr>\n",
       "  </tbody>\n",
       "</table>\n",
       "<p>547 rows × 2 columns</p>\n",
       "</div>"
      ],
      "text/plain": [
       "                                     company  count\n",
       "40                                     Apple     29\n",
       "234                           Insight Global     19\n",
       "125                              CyberCoders     19\n",
       "489                       UnitedHealth Group     13\n",
       "529                                   Zillow      9\n",
       "..                                       ...    ...\n",
       "198                              Gradient AI      1\n",
       "197                                Glassdoor      1\n",
       "194  General Dynamics Information Technology      1\n",
       "193                       GenTech Associates      1\n",
       "546                               mpathic.ai      1\n",
       "\n",
       "[547 rows x 2 columns]"
      ]
     },
     "execution_count": 48,
     "metadata": {},
     "output_type": "execute_result"
    }
   ],
   "source": [
    "df_count = df_company.groupby('company')['job_title'].nunique().to_frame(name='count').reset_index()\n",
    "df_count.sort_values(by = 'count', ascending=False, inplace=True)\n",
    "df_count"
   ]
  },
  {
   "cell_type": "markdown",
   "id": "5e0c4c96-65bc-4b25-af11-877167db0562",
   "metadata": {},
   "source": [
    "#### Use string methods and/or regular expressions to find salaries and salary ranges in the job ads. Parse the data into some kind of numerical representation (with NAs for ads without salary data) and merge it back with your original metadata Data Frame as one or more columns."
   ]
  },
  {
   "cell_type": "code",
   "execution_count": 49,
   "id": "a8827950-b87c-433b-a556-570bfa5f4189",
   "metadata": {},
   "outputs": [],
   "source": [
    "import re"
   ]
  },
  {
   "cell_type": "code",
   "execution_count": 50,
   "id": "b14050da-8d25-4f49-8205-907d3a2b19a8",
   "metadata": {},
   "outputs": [],
   "source": [
    "salary_text = []\n",
    "\n",
    "for txt in txt_list:\n",
    "    salary = []\n",
    "    matches = re.findall(r'[\\$0-9,\\. ]*-[\\$0-9,\\. ]*', txt.replace(\",\", \"\"))\n",
    "    for m in matches:\n",
    "        if m.startswith('$'):\n",
    "            salary.append(m)\n",
    "    salary_text.append(salary)"
   ]
  },
  {
   "cell_type": "code",
   "execution_count": 51,
   "id": "b1d970ba-0662-4980-a021-a1f5dee02805",
   "metadata": {},
   "outputs": [
    {
     "data": {
      "text/html": [
       "<div>\n",
       "<style scoped>\n",
       "    .dataframe tbody tr th:only-of-type {\n",
       "        vertical-align: middle;\n",
       "    }\n",
       "\n",
       "    .dataframe tbody tr th {\n",
       "        vertical-align: top;\n",
       "    }\n",
       "\n",
       "    .dataframe thead th {\n",
       "        text-align: right;\n",
       "    }\n",
       "</style>\n",
       "<table border=\"1\" class=\"dataframe\">\n",
       "  <thead>\n",
       "    <tr style=\"text-align: right;\">\n",
       "      <th></th>\n",
       "      <th>id</th>\n",
       "      <th>url</th>\n",
       "      <th>company</th>\n",
       "      <th>job_title</th>\n",
       "      <th>duplicates</th>\n",
       "      <th>first_date_scraped</th>\n",
       "      <th>latest_date_scraped</th>\n",
       "      <th>data_science</th>\n",
       "      <th>data_analytics</th>\n",
       "      <th>python</th>\n",
       "      <th>knowledge</th>\n",
       "      <th>business</th>\n",
       "      <th>database</th>\n",
       "      <th>dashboards</th>\n",
       "      <th>statistical</th>\n",
       "      <th>machine</th>\n",
       "      <th>category</th>\n",
       "      <th>salary</th>\n",
       "    </tr>\n",
       "  </thead>\n",
       "  <tbody>\n",
       "    <tr>\n",
       "      <th>0</th>\n",
       "      <td>983</td>\n",
       "      <td>/partner/jobListing.htm?pos=213&amp;ao=1110586&amp;s=5...</td>\n",
       "      <td>First Financial Asset Management</td>\n",
       "      <td>Data Analytics Associate of Data Science</td>\n",
       "      <td>288</td>\n",
       "      <td>09-03-2022</td>\n",
       "      <td>09-11-2022</td>\n",
       "      <td>1</td>\n",
       "      <td>1</td>\n",
       "      <td>0.049160</td>\n",
       "      <td>0.000000</td>\n",
       "      <td>0.038954</td>\n",
       "      <td>0.000000</td>\n",
       "      <td>0.000000</td>\n",
       "      <td>0.031573</td>\n",
       "      <td>0.000000</td>\n",
       "      <td>both</td>\n",
       "      <td>NA</td>\n",
       "    </tr>\n",
       "    <tr>\n",
       "      <th>1</th>\n",
       "      <td>72</td>\n",
       "      <td>/partner/jobListing.htm?pos=203&amp;ao=1110586&amp;s=5...</td>\n",
       "      <td>John Deere</td>\n",
       "      <td>Part-Time Student-Data Analytics-Remote</td>\n",
       "      <td>280</td>\n",
       "      <td>09-03-2022</td>\n",
       "      <td>09-08-2022</td>\n",
       "      <td>1</td>\n",
       "      <td>1</td>\n",
       "      <td>0.016488</td>\n",
       "      <td>0.033019</td>\n",
       "      <td>0.000000</td>\n",
       "      <td>0.000000</td>\n",
       "      <td>0.000000</td>\n",
       "      <td>0.000000</td>\n",
       "      <td>0.020352</td>\n",
       "      <td>both</td>\n",
       "      <td>NA</td>\n",
       "    </tr>\n",
       "    <tr>\n",
       "      <th>2</th>\n",
       "      <td>1876</td>\n",
       "      <td>/partner/jobListing.htm?pos=206&amp;ao=1110586&amp;s=5...</td>\n",
       "      <td>FrankCrum Staffing</td>\n",
       "      <td>Data Analytics Specialist</td>\n",
       "      <td>258</td>\n",
       "      <td>09-04-2022</td>\n",
       "      <td>09-12-2022</td>\n",
       "      <td>0</td>\n",
       "      <td>1</td>\n",
       "      <td>0.000000</td>\n",
       "      <td>0.017931</td>\n",
       "      <td>0.042568</td>\n",
       "      <td>0.000000</td>\n",
       "      <td>0.030657</td>\n",
       "      <td>0.023001</td>\n",
       "      <td>0.000000</td>\n",
       "      <td>data analytics</td>\n",
       "      <td>NA</td>\n",
       "    </tr>\n",
       "    <tr>\n",
       "      <th>3</th>\n",
       "      <td>7186</td>\n",
       "      <td>/partner/jobListing.htm?pos=106&amp;ao=1110586&amp;s=5...</td>\n",
       "      <td>Vertex Pharmaceuticals</td>\n",
       "      <td>Contractor, Data Analytics</td>\n",
       "      <td>246</td>\n",
       "      <td>09-07-2022</td>\n",
       "      <td>09-12-2022</td>\n",
       "      <td>1</td>\n",
       "      <td>1</td>\n",
       "      <td>0.014450</td>\n",
       "      <td>0.043406</td>\n",
       "      <td>0.057250</td>\n",
       "      <td>0.023145</td>\n",
       "      <td>0.000000</td>\n",
       "      <td>0.000000</td>\n",
       "      <td>0.017837</td>\n",
       "      <td>both</td>\n",
       "      <td>NA</td>\n",
       "    </tr>\n",
       "    <tr>\n",
       "      <th>4</th>\n",
       "      <td>976</td>\n",
       "      <td>/partner/jobListing.htm?pos=206&amp;ao=1110586&amp;s=5...</td>\n",
       "      <td>John Deere</td>\n",
       "      <td>Data Science &amp; Analytics Development Program 2...</td>\n",
       "      <td>214</td>\n",
       "      <td>09-03-2022</td>\n",
       "      <td>09-12-2022</td>\n",
       "      <td>1</td>\n",
       "      <td>0</td>\n",
       "      <td>0.024316</td>\n",
       "      <td>0.024348</td>\n",
       "      <td>0.038536</td>\n",
       "      <td>0.000000</td>\n",
       "      <td>0.000000</td>\n",
       "      <td>0.031234</td>\n",
       "      <td>0.000000</td>\n",
       "      <td>data science</td>\n",
       "      <td>NA</td>\n",
       "    </tr>\n",
       "    <tr>\n",
       "      <th>...</th>\n",
       "      <td>...</td>\n",
       "      <td>...</td>\n",
       "      <td>...</td>\n",
       "      <td>...</td>\n",
       "      <td>...</td>\n",
       "      <td>...</td>\n",
       "      <td>...</td>\n",
       "      <td>...</td>\n",
       "      <td>...</td>\n",
       "      <td>...</td>\n",
       "      <td>...</td>\n",
       "      <td>...</td>\n",
       "      <td>...</td>\n",
       "      <td>...</td>\n",
       "      <td>...</td>\n",
       "      <td>...</td>\n",
       "      <td>...</td>\n",
       "      <td>...</td>\n",
       "    </tr>\n",
       "    <tr>\n",
       "      <th>862</th>\n",
       "      <td>15459</td>\n",
       "      <td>/partner/jobListing.htm?pos=629&amp;ao=1110586&amp;s=5...</td>\n",
       "      <td>firstPRO Inc.</td>\n",
       "      <td>Senior Data Engineering Manager</td>\n",
       "      <td>1</td>\n",
       "      <td>09-11-2022</td>\n",
       "      <td>09-11-2022</td>\n",
       "      <td>0</td>\n",
       "      <td>1</td>\n",
       "      <td>0.000000</td>\n",
       "      <td>0.000000</td>\n",
       "      <td>0.079142</td>\n",
       "      <td>0.000000</td>\n",
       "      <td>0.000000</td>\n",
       "      <td>0.000000</td>\n",
       "      <td>0.000000</td>\n",
       "      <td>data analytics</td>\n",
       "      <td>NA</td>\n",
       "    </tr>\n",
       "    <tr>\n",
       "      <th>863</th>\n",
       "      <td>13498</td>\n",
       "      <td>/partner/jobListing.htm?pos=118&amp;ao=1136043&amp;s=5...</td>\n",
       "      <td>iTrending Solutions</td>\n",
       "      <td>Data Analyst</td>\n",
       "      <td>1</td>\n",
       "      <td>09-10-2022</td>\n",
       "      <td>09-10-2022</td>\n",
       "      <td>0</td>\n",
       "      <td>1</td>\n",
       "      <td>0.000000</td>\n",
       "      <td>0.000000</td>\n",
       "      <td>0.000000</td>\n",
       "      <td>0.000000</td>\n",
       "      <td>0.000000</td>\n",
       "      <td>0.000000</td>\n",
       "      <td>0.000000</td>\n",
       "      <td>data analytics</td>\n",
       "      <td>NA</td>\n",
       "    </tr>\n",
       "    <tr>\n",
       "      <th>864</th>\n",
       "      <td>11707</td>\n",
       "      <td>/partner/jobListing.htm?pos=127&amp;ao=1110586&amp;s=5...</td>\n",
       "      <td>inTulsa</td>\n",
       "      <td>Data Engineer</td>\n",
       "      <td>1</td>\n",
       "      <td>09-09-2022</td>\n",
       "      <td>09-09-2022</td>\n",
       "      <td>0</td>\n",
       "      <td>1</td>\n",
       "      <td>0.033565</td>\n",
       "      <td>0.050414</td>\n",
       "      <td>0.013299</td>\n",
       "      <td>0.026882</td>\n",
       "      <td>0.000000</td>\n",
       "      <td>0.021557</td>\n",
       "      <td>0.000000</td>\n",
       "      <td>data analytics</td>\n",
       "      <td>NA</td>\n",
       "    </tr>\n",
       "    <tr>\n",
       "      <th>865</th>\n",
       "      <td>8102</td>\n",
       "      <td>/partner/jobListing.htm?pos=122&amp;ao=1110586&amp;s=5...</td>\n",
       "      <td>inTulsa</td>\n",
       "      <td>Data Scientist</td>\n",
       "      <td>1</td>\n",
       "      <td>09-07-2022</td>\n",
       "      <td>09-07-2022</td>\n",
       "      <td>0</td>\n",
       "      <td>1</td>\n",
       "      <td>0.000000</td>\n",
       "      <td>0.014041</td>\n",
       "      <td>0.055557</td>\n",
       "      <td>0.000000</td>\n",
       "      <td>0.048013</td>\n",
       "      <td>0.000000</td>\n",
       "      <td>0.000000</td>\n",
       "      <td>data analytics</td>\n",
       "      <td>NA</td>\n",
       "    </tr>\n",
       "    <tr>\n",
       "      <th>866</th>\n",
       "      <td>12604</td>\n",
       "      <td>/partner/jobListing.htm?pos=124&amp;ao=1136043&amp;s=5...</td>\n",
       "      <td>mpathic.ai</td>\n",
       "      <td>ML Ops</td>\n",
       "      <td>1</td>\n",
       "      <td>09-10-2022</td>\n",
       "      <td>09-10-2022</td>\n",
       "      <td>1</td>\n",
       "      <td>0</td>\n",
       "      <td>0.013060</td>\n",
       "      <td>0.026155</td>\n",
       "      <td>0.000000</td>\n",
       "      <td>0.000000</td>\n",
       "      <td>0.000000</td>\n",
       "      <td>0.000000</td>\n",
       "      <td>0.080608</td>\n",
       "      <td>data science</td>\n",
       "      <td>NA</td>\n",
       "    </tr>\n",
       "  </tbody>\n",
       "</table>\n",
       "<p>867 rows × 18 columns</p>\n",
       "</div>"
      ],
      "text/plain": [
       "        id                                                url  \\\n",
       "0      983  /partner/jobListing.htm?pos=213&ao=1110586&s=5...   \n",
       "1       72  /partner/jobListing.htm?pos=203&ao=1110586&s=5...   \n",
       "2     1876  /partner/jobListing.htm?pos=206&ao=1110586&s=5...   \n",
       "3     7186  /partner/jobListing.htm?pos=106&ao=1110586&s=5...   \n",
       "4      976  /partner/jobListing.htm?pos=206&ao=1110586&s=5...   \n",
       "..     ...                                                ...   \n",
       "862  15459  /partner/jobListing.htm?pos=629&ao=1110586&s=5...   \n",
       "863  13498  /partner/jobListing.htm?pos=118&ao=1136043&s=5...   \n",
       "864  11707  /partner/jobListing.htm?pos=127&ao=1110586&s=5...   \n",
       "865   8102  /partner/jobListing.htm?pos=122&ao=1110586&s=5...   \n",
       "866  12604  /partner/jobListing.htm?pos=124&ao=1136043&s=5...   \n",
       "\n",
       "                              company  \\\n",
       "0    First Financial Asset Management   \n",
       "1                          John Deere   \n",
       "2                  FrankCrum Staffing   \n",
       "3              Vertex Pharmaceuticals   \n",
       "4                          John Deere   \n",
       "..                                ...   \n",
       "862                     firstPRO Inc.   \n",
       "863               iTrending Solutions   \n",
       "864                           inTulsa   \n",
       "865                           inTulsa   \n",
       "866                        mpathic.ai   \n",
       "\n",
       "                                             job_title  duplicates  \\\n",
       "0             Data Analytics Associate of Data Science         288   \n",
       "1              Part-Time Student-Data Analytics-Remote         280   \n",
       "2                            Data Analytics Specialist         258   \n",
       "3                           Contractor, Data Analytics         246   \n",
       "4    Data Science & Analytics Development Program 2...         214   \n",
       "..                                                 ...         ...   \n",
       "862                    Senior Data Engineering Manager           1   \n",
       "863                                       Data Analyst           1   \n",
       "864                                      Data Engineer           1   \n",
       "865                                     Data Scientist           1   \n",
       "866                                             ML Ops           1   \n",
       "\n",
       "    first_date_scraped latest_date_scraped  data_science  data_analytics  \\\n",
       "0           09-03-2022          09-11-2022             1               1   \n",
       "1           09-03-2022          09-08-2022             1               1   \n",
       "2           09-04-2022          09-12-2022             0               1   \n",
       "3           09-07-2022          09-12-2022             1               1   \n",
       "4           09-03-2022          09-12-2022             1               0   \n",
       "..                 ...                 ...           ...             ...   \n",
       "862         09-11-2022          09-11-2022             0               1   \n",
       "863         09-10-2022          09-10-2022             0               1   \n",
       "864         09-09-2022          09-09-2022             0               1   \n",
       "865         09-07-2022          09-07-2022             0               1   \n",
       "866         09-10-2022          09-10-2022             1               0   \n",
       "\n",
       "       python  knowledge  business  database  dashboards  statistical  \\\n",
       "0    0.049160   0.000000  0.038954  0.000000    0.000000     0.031573   \n",
       "1    0.016488   0.033019  0.000000  0.000000    0.000000     0.000000   \n",
       "2    0.000000   0.017931  0.042568  0.000000    0.030657     0.023001   \n",
       "3    0.014450   0.043406  0.057250  0.023145    0.000000     0.000000   \n",
       "4    0.024316   0.024348  0.038536  0.000000    0.000000     0.031234   \n",
       "..        ...        ...       ...       ...         ...          ...   \n",
       "862  0.000000   0.000000  0.079142  0.000000    0.000000     0.000000   \n",
       "863  0.000000   0.000000  0.000000  0.000000    0.000000     0.000000   \n",
       "864  0.033565   0.050414  0.013299  0.026882    0.000000     0.021557   \n",
       "865  0.000000   0.014041  0.055557  0.000000    0.048013     0.000000   \n",
       "866  0.013060   0.026155  0.000000  0.000000    0.000000     0.000000   \n",
       "\n",
       "      machine        category salary  \n",
       "0    0.000000            both     NA  \n",
       "1    0.020352            both     NA  \n",
       "2    0.000000  data analytics     NA  \n",
       "3    0.017837            both     NA  \n",
       "4    0.000000    data science     NA  \n",
       "..        ...             ...    ...  \n",
       "862  0.000000  data analytics     NA  \n",
       "863  0.000000  data analytics     NA  \n",
       "864  0.000000  data analytics     NA  \n",
       "865  0.000000  data analytics     NA  \n",
       "866  0.080608    data science     NA  \n",
       "\n",
       "[867 rows x 18 columns]"
      ]
     },
     "execution_count": 51,
     "metadata": {},
     "output_type": "execute_result"
    }
   ],
   "source": [
    "metadf['salary'] = [i[0] if len(i) == 1 else 'NA' for i in salary_text]\n",
    "metadf"
   ]
  }
 ],
 "metadata": {
  "kernelspec": {
   "display_name": "data-analytics",
   "language": "python",
   "name": "data-analytics"
  },
  "language_info": {
   "codemirror_mode": {
    "name": "ipython",
    "version": 3
   },
   "file_extension": ".py",
   "mimetype": "text/x-python",
   "name": "python",
   "nbconvert_exporter": "python",
   "pygments_lexer": "ipython3",
   "version": "3.11.5"
  }
 },
 "nbformat": 4,
 "nbformat_minor": 5
}
